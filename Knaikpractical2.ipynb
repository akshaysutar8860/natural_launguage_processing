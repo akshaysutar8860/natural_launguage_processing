{
  "nbformat": 4,
  "nbformat_minor": 0,
  "metadata": {
    "colab": {
      "name": "Knaikpractical2.ipynb",
      "provenance": [],
      "authorship_tag": "ABX9TyNLeG5j5eqEBKZv8FHnBwIO",
      "include_colab_link": true
    },
    "kernelspec": {
      "name": "python3",
      "display_name": "Python 3"
    },
    "language_info": {
      "name": "python"
    }
  },
  "cells": [
    {
      "cell_type": "markdown",
      "metadata": {
        "id": "view-in-github",
        "colab_type": "text"
      },
      "source": [
        "<a href=\"https://colab.research.google.com/github/akshaysutar8860/natural_launguage_processing/blob/main/Knaikpractical2.ipynb\" target=\"_parent\"><img src=\"https://colab.research.google.com/assets/colab-badge.svg\" alt=\"Open In Colab\"/></a>"
      ]
    },
    {
      "cell_type": "code",
      "metadata": {
        "id": "lahfwiAlqVG4"
      },
      "source": [
        "!pip install gensim"
      ],
      "execution_count": null,
      "outputs": []
    },
    {
      "cell_type": "code",
      "metadata": {
        "colab": {
          "base_uri": "https://localhost:8080/"
        },
        "id": "m-Tv-TkGqqIt",
        "outputId": "b3e0f254-c120-4863-f337-2aad450eb5d6"
      },
      "source": [
        "from gensim.models import Word2Vec\n",
        "from nltk.corpus import stopwords\n",
        "import re\n",
        "import nltk\n",
        "nltk.download('punkt')\n",
        "nltk.download('stopwords')"
      ],
      "execution_count": 64,
      "outputs": [
        {
          "output_type": "stream",
          "name": "stdout",
          "text": [
            "[nltk_data] Downloading package punkt to /root/nltk_data...\n",
            "[nltk_data]   Package punkt is already up-to-date!\n",
            "[nltk_data] Downloading package stopwords to /root/nltk_data...\n",
            "[nltk_data]   Unzipping corpora/stopwords.zip.\n"
          ]
        },
        {
          "output_type": "execute_result",
          "data": {
            "text/plain": [
              "True"
            ]
          },
          "metadata": {},
          "execution_count": 64
        }
      ]
    },
    {
      "cell_type": "code",
      "metadata": {
        "id": "8ns6pUEErAO1"
      },
      "source": [
        "para=\"\"\"Anthony Edward Stark, more commonly known as Tony Stark, is a fictional character primarily portrayed by Robert Downey Jr. in the Marvel Cinematic Universe (MCU) media franchise—based on the Marvel Comics character of the same name—commonly known by his alias, Iron Man. Stark is depicted as an industrialist, genius inventor, and playboy who is CEO of Stark Industries. Initially the chief weapons manufacturer for the U.S. military, he has a change of heart and redirects his technical knowledge into the creation of mechanized suits of armor which he uses to defend against those that would threaten peace around the world. He becomes a founding member and leader of the Avengers until his death in Avengers: Endgame (2019). He also mentored Peter Parker, choosing him as a successor.\n",
        "\"\"\""
      ],
      "execution_count": 115,
      "outputs": []
    },
    {
      "cell_type": "code",
      "metadata": {
        "id": "pcHWZ3yu3Za3"
      },
      "source": [
        "sentences=nltk.sent_tokenize(para)\n",
        "words=[]\n",
        "for i in range(len(sentences)):\n",
        "  sentences[i]=sentences[i].lower()\n",
        "  sentences[i]=re.sub('[^a-zA-Z]',' ',sentences[i])"
      ],
      "execution_count": 125,
      "outputs": []
    },
    {
      "cell_type": "code",
      "metadata": {
        "colab": {
          "base_uri": "https://localhost:8080/",
          "height": 35
        },
        "id": "ckszfagw6at-",
        "outputId": "79393844-1ec9-49d3-e205-502b3ab2c050"
      },
      "source": [
        "sentences[1]"
      ],
      "execution_count": 126,
      "outputs": [
        {
          "output_type": "execute_result",
          "data": {
            "application/vnd.google.colaboratory.intrinsic+json": {
              "type": "string"
            },
            "text/plain": [
              "'stark is depicted as an industrialist  genius inventor  and playboy who is ceo of stark industries '"
            ]
          },
          "metadata": {},
          "execution_count": 126
        }
      ]
    },
    {
      "cell_type": "code",
      "metadata": {
        "id": "Ejb73LW53qCk"
      },
      "source": [
        "for i in range(len(sentences)):\n",
        "  sentence=nltk.word_tokenize(sentences[i])\n",
        "  words.append(sentence)\n"
      ],
      "execution_count": 128,
      "outputs": []
    },
    {
      "cell_type": "code",
      "metadata": {
        "id": "AHGMeQql30d3"
      },
      "source": [
        "\n",
        "for i in range(len(words)):\n",
        "  words[i]=[word for word in words[i] if not word in stopwords.words('english')]\n",
        "\n"
      ],
      "execution_count": 129,
      "outputs": []
    },
    {
      "cell_type": "code",
      "metadata": {
        "colab": {
          "base_uri": "https://localhost:8080/"
        },
        "id": "FU_pWtd05rbs",
        "outputId": "bb39fad8-1078-4af6-efb6-2fa4bd7bc644"
      },
      "source": [
        "words"
      ],
      "execution_count": 130,
      "outputs": [
        {
          "output_type": "execute_result",
          "data": {
            "text/plain": [
              "[['anthony',\n",
              "  'edward',\n",
              "  'stark',\n",
              "  'commonly',\n",
              "  'known',\n",
              "  'tony',\n",
              "  'stark',\n",
              "  'fictional',\n",
              "  'character',\n",
              "  'primarily',\n",
              "  'portrayed',\n",
              "  'robert',\n",
              "  'downey',\n",
              "  'jr',\n",
              "  'marvel',\n",
              "  'cinematic',\n",
              "  'universe',\n",
              "  'mcu',\n",
              "  'media',\n",
              "  'franchise',\n",
              "  'based',\n",
              "  'marvel',\n",
              "  'comics',\n",
              "  'character',\n",
              "  'name',\n",
              "  'commonly',\n",
              "  'known',\n",
              "  'alias',\n",
              "  'iron',\n",
              "  'man'],\n",
              " ['stark',\n",
              "  'depicted',\n",
              "  'industrialist',\n",
              "  'genius',\n",
              "  'inventor',\n",
              "  'playboy',\n",
              "  'ceo',\n",
              "  'stark',\n",
              "  'industries'],\n",
              " ['initially',\n",
              "  'chief',\n",
              "  'weapons',\n",
              "  'manufacturer',\n",
              "  'u',\n",
              "  'military',\n",
              "  'change',\n",
              "  'heart',\n",
              "  'redirects',\n",
              "  'technical',\n",
              "  'knowledge',\n",
              "  'creation',\n",
              "  'mechanized',\n",
              "  'suits',\n",
              "  'armor',\n",
              "  'uses',\n",
              "  'defend',\n",
              "  'would',\n",
              "  'threaten',\n",
              "  'peace',\n",
              "  'around',\n",
              "  'world'],\n",
              " ['becomes',\n",
              "  'founding',\n",
              "  'member',\n",
              "  'leader',\n",
              "  'avengers',\n",
              "  'death',\n",
              "  'avengers',\n",
              "  'endgame'],\n",
              " ['also', 'mentored', 'peter', 'parker', 'choosing', 'successor'],\n",
              " ['anthony',\n",
              "  'edward',\n",
              "  'stark',\n",
              "  'commonly',\n",
              "  'known',\n",
              "  'tony',\n",
              "  'stark',\n",
              "  'fictional',\n",
              "  'character',\n",
              "  'primarily',\n",
              "  'portrayed',\n",
              "  'robert',\n",
              "  'downey',\n",
              "  'jr',\n",
              "  'marvel',\n",
              "  'cinematic',\n",
              "  'universe',\n",
              "  'mcu',\n",
              "  'media',\n",
              "  'franchise',\n",
              "  'based',\n",
              "  'marvel',\n",
              "  'comics',\n",
              "  'character',\n",
              "  'name',\n",
              "  'commonly',\n",
              "  'known',\n",
              "  'alias',\n",
              "  'iron',\n",
              "  'man'],\n",
              " ['stark',\n",
              "  'depicted',\n",
              "  'industrialist',\n",
              "  'genius',\n",
              "  'inventor',\n",
              "  'playboy',\n",
              "  'ceo',\n",
              "  'stark',\n",
              "  'industries'],\n",
              " ['initially',\n",
              "  'chief',\n",
              "  'weapons',\n",
              "  'manufacturer',\n",
              "  'u',\n",
              "  'military',\n",
              "  'change',\n",
              "  'heart',\n",
              "  'redirects',\n",
              "  'technical',\n",
              "  'knowledge',\n",
              "  'creation',\n",
              "  'mechanized',\n",
              "  'suits',\n",
              "  'armor',\n",
              "  'uses',\n",
              "  'defend',\n",
              "  'would',\n",
              "  'threaten',\n",
              "  'peace',\n",
              "  'around',\n",
              "  'world'],\n",
              " ['becomes',\n",
              "  'founding',\n",
              "  'member',\n",
              "  'leader',\n",
              "  'avengers',\n",
              "  'death',\n",
              "  'avengers',\n",
              "  'endgame'],\n",
              " ['also', 'mentored', 'peter', 'parker', 'choosing', 'successor']]"
            ]
          },
          "metadata": {},
          "execution_count": 130
        }
      ]
    },
    {
      "cell_type": "code",
      "metadata": {
        "id": "Xtqw6EFY4rAJ"
      },
      "source": [
        "model=Word2Vec(words,min_count=1)"
      ],
      "execution_count": 131,
      "outputs": []
    },
    {
      "cell_type": "code",
      "metadata": {
        "id": "PKkNJVEj9XdX"
      },
      "source": [
        "voca=model.wv.vocab"
      ],
      "execution_count": 134,
      "outputs": []
    },
    {
      "cell_type": "code",
      "metadata": {
        "colab": {
          "base_uri": "https://localhost:8080/"
        },
        "id": "ahZ__8O_-B81",
        "outputId": "6e69f928-566c-4703-b24c-8bcf950b94e3"
      },
      "source": [
        "voca"
      ],
      "execution_count": 135,
      "outputs": [
        {
          "output_type": "execute_result",
          "data": {
            "text/plain": [
              "{'alias': <gensim.models.keyedvectors.Vocab at 0x7f05ad3ad750>,\n",
              " 'also': <gensim.models.keyedvectors.Vocab at 0x7f05ad3e8c90>,\n",
              " 'anthony': <gensim.models.keyedvectors.Vocab at 0x7f05ad3add50>,\n",
              " 'armor': <gensim.models.keyedvectors.Vocab at 0x7f05ad39e390>,\n",
              " 'around': <gensim.models.keyedvectors.Vocab at 0x7f05ad499810>,\n",
              " 'avengers': <gensim.models.keyedvectors.Vocab at 0x7f05ad3e8e50>,\n",
              " 'based': <gensim.models.keyedvectors.Vocab at 0x7f05ad3ad550>,\n",
              " 'becomes': <gensim.models.keyedvectors.Vocab at 0x7f05ad4994d0>,\n",
              " 'ceo': <gensim.models.keyedvectors.Vocab at 0x7f05ad4493d0>,\n",
              " 'change': <gensim.models.keyedvectors.Vocab at 0x7f05ad449550>,\n",
              " 'character': <gensim.models.keyedvectors.Vocab at 0x7f05ad3ade50>,\n",
              " 'chief': <gensim.models.keyedvectors.Vocab at 0x7f05ad449890>,\n",
              " 'choosing': <gensim.models.keyedvectors.Vocab at 0x7f05ad3e8610>,\n",
              " 'cinematic': <gensim.models.keyedvectors.Vocab at 0x7f05ad3ad1d0>,\n",
              " 'comics': <gensim.models.keyedvectors.Vocab at 0x7f05ad3ad490>,\n",
              " 'commonly': <gensim.models.keyedvectors.Vocab at 0x7f05ad3ad990>,\n",
              " 'creation': <gensim.models.keyedvectors.Vocab at 0x7f05ad39ec50>,\n",
              " 'death': <gensim.models.keyedvectors.Vocab at 0x7f05ad3e8cd0>,\n",
              " 'defend': <gensim.models.keyedvectors.Vocab at 0x7f05ad39e110>,\n",
              " 'depicted': <gensim.models.keyedvectors.Vocab at 0x7f05ad3adf90>,\n",
              " 'downey': <gensim.models.keyedvectors.Vocab at 0x7f05ad3ad150>,\n",
              " 'edward': <gensim.models.keyedvectors.Vocab at 0x7f05ad3ad310>,\n",
              " 'endgame': <gensim.models.keyedvectors.Vocab at 0x7f05ad3e8b10>,\n",
              " 'fictional': <gensim.models.keyedvectors.Vocab at 0x7f05ad3add90>,\n",
              " 'founding': <gensim.models.keyedvectors.Vocab at 0x7f05ad499ad0>,\n",
              " 'franchise': <gensim.models.keyedvectors.Vocab at 0x7f05ad3ad0d0>,\n",
              " 'genius': <gensim.models.keyedvectors.Vocab at 0x7f05ad3adc10>,\n",
              " 'heart': <gensim.models.keyedvectors.Vocab at 0x7f05ad39e590>,\n",
              " 'industrialist': <gensim.models.keyedvectors.Vocab at 0x7f05ad3ad890>,\n",
              " 'industries': <gensim.models.keyedvectors.Vocab at 0x7f05ad449d90>,\n",
              " 'initially': <gensim.models.keyedvectors.Vocab at 0x7f05ad449d50>,\n",
              " 'inventor': <gensim.models.keyedvectors.Vocab at 0x7f05ad3aded0>,\n",
              " 'iron': <gensim.models.keyedvectors.Vocab at 0x7f05ad3ad390>,\n",
              " 'jr': <gensim.models.keyedvectors.Vocab at 0x7f05ad3ad090>,\n",
              " 'knowledge': <gensim.models.keyedvectors.Vocab at 0x7f05ad39e710>,\n",
              " 'known': <gensim.models.keyedvectors.Vocab at 0x7f05ad3ad950>,\n",
              " 'leader': <gensim.models.keyedvectors.Vocab at 0x7f05ad513d10>,\n",
              " 'man': <gensim.models.keyedvectors.Vocab at 0x7f05ad3ad4d0>,\n",
              " 'manufacturer': <gensim.models.keyedvectors.Vocab at 0x7f05ad4498d0>,\n",
              " 'marvel': <gensim.models.keyedvectors.Vocab at 0x7f05ad3ad410>,\n",
              " 'mcu': <gensim.models.keyedvectors.Vocab at 0x7f05ad3ad710>,\n",
              " 'mechanized': <gensim.models.keyedvectors.Vocab at 0x7f05ad39ef10>,\n",
              " 'media': <gensim.models.keyedvectors.Vocab at 0x7f05ad3ad6d0>,\n",
              " 'member': <gensim.models.keyedvectors.Vocab at 0x7f05ad513c50>,\n",
              " 'mentored': <gensim.models.keyedvectors.Vocab at 0x7f05ad3e8250>,\n",
              " 'military': <gensim.models.keyedvectors.Vocab at 0x7f05ad449bd0>,\n",
              " 'name': <gensim.models.keyedvectors.Vocab at 0x7f05ad3ad190>,\n",
              " 'parker': <gensim.models.keyedvectors.Vocab at 0x7f05ad3e8fd0>,\n",
              " 'peace': <gensim.models.keyedvectors.Vocab at 0x7f05ad499190>,\n",
              " 'peter': <gensim.models.keyedvectors.Vocab at 0x7f05ad3e8c10>,\n",
              " 'playboy': <gensim.models.keyedvectors.Vocab at 0x7f05ad3ad7d0>,\n",
              " 'portrayed': <gensim.models.keyedvectors.Vocab at 0x7f05ad3ad510>,\n",
              " 'primarily': <gensim.models.keyedvectors.Vocab at 0x7f05ad3adbd0>,\n",
              " 'redirects': <gensim.models.keyedvectors.Vocab at 0x7f05ad39ef50>,\n",
              " 'robert': <gensim.models.keyedvectors.Vocab at 0x7f05ad3ad790>,\n",
              " 'stark': <gensim.models.keyedvectors.Vocab at 0x7f05ad3adc50>,\n",
              " 'successor': <gensim.models.keyedvectors.Vocab at 0x7f05ad3e8790>,\n",
              " 'suits': <gensim.models.keyedvectors.Vocab at 0x7f05ad39ee90>,\n",
              " 'technical': <gensim.models.keyedvectors.Vocab at 0x7f05ad39ea10>,\n",
              " 'threaten': <gensim.models.keyedvectors.Vocab at 0x7f05ad499850>,\n",
              " 'tony': <gensim.models.keyedvectors.Vocab at 0x7f05ad3ad850>,\n",
              " 'u': <gensim.models.keyedvectors.Vocab at 0x7f05ad449050>,\n",
              " 'universe': <gensim.models.keyedvectors.Vocab at 0x7f05ad3ad110>,\n",
              " 'uses': <gensim.models.keyedvectors.Vocab at 0x7f05ad39e090>,\n",
              " 'weapons': <gensim.models.keyedvectors.Vocab at 0x7f05ad449310>,\n",
              " 'world': <gensim.models.keyedvectors.Vocab at 0x7f05ad499690>,\n",
              " 'would': <gensim.models.keyedvectors.Vocab at 0x7f05ad499410>}"
            ]
          },
          "metadata": {},
          "execution_count": 135
        }
      ]
    },
    {
      "cell_type": "code",
      "metadata": {
        "colab": {
          "base_uri": "https://localhost:8080/"
        },
        "id": "RcF1uRQ7-WlR",
        "outputId": "44f93a89-33aa-4544-9565-1f5c647ba385"
      },
      "source": [
        "print(model.wv['peace'])"
      ],
      "execution_count": 138,
      "outputs": [
        {
          "output_type": "stream",
          "name": "stdout",
          "text": [
            "[ 4.8725479e-03 -2.3768710e-03  8.5850572e-04 -9.9984149e-04\n",
            " -4.2751702e-04 -6.3603993e-06  1.7589643e-03 -1.5133088e-03\n",
            " -2.6802246e-03 -2.0968141e-03  3.4682641e-03 -8.0891920e-04\n",
            "  1.1897939e-03  5.0275668e-04 -4.6675112e-03 -2.6056564e-03\n",
            "  4.0446618e-04  1.9962383e-03  1.9871284e-05 -3.1274876e-03\n",
            "  6.8155810e-04  1.0541190e-03 -2.1192799e-03  5.1500322e-04\n",
            " -2.2306663e-03  1.5217968e-03 -3.1966362e-03 -2.4713615e-03\n",
            " -4.8472208e-04  3.6671625e-03  4.6492857e-03 -2.6902910e-03\n",
            "  2.1013930e-03 -2.8679613e-03 -1.1645278e-03 -3.1319726e-04\n",
            " -3.0546249e-03 -3.3914877e-04 -2.3003623e-03  1.6104124e-03\n",
            " -1.4340893e-03  9.3967046e-06 -2.3794244e-03  1.8816910e-03\n",
            " -3.5845442e-03 -3.2160454e-04  2.0702806e-04  2.6402213e-03\n",
            "  2.6095626e-03 -4.4262316e-03  4.7539421e-03  1.0642969e-03\n",
            " -1.3153071e-03  1.8516502e-03  1.3534103e-03 -3.4695754e-03\n",
            " -3.1799963e-03 -3.1003270e-03  1.5276816e-03 -1.9365303e-03\n",
            " -6.0349383e-04  3.5314530e-03  8.2025508e-04 -2.4468557e-03\n",
            " -2.9784755e-03 -3.6342999e-03  3.4968383e-03 -2.8678956e-03\n",
            "  2.3518552e-04  4.9407389e-03  1.5954653e-04  2.0301752e-03\n",
            "  2.8398496e-03  2.5860225e-03 -3.6199384e-03  2.7735783e-03\n",
            " -1.6322151e-04  4.4506676e-03 -1.7400967e-03 -8.3910179e-04\n",
            " -2.0250392e-03 -4.4926003e-04 -3.2735907e-04  1.7705470e-04\n",
            " -1.0487690e-03  4.0345928e-03 -3.1257034e-03  3.6740482e-03\n",
            "  1.3343516e-03  3.6211160e-03 -9.7928953e-04 -8.4669783e-04\n",
            "  1.8671734e-03 -1.0122337e-03  4.7793770e-03  2.4990123e-03\n",
            " -4.1170041e-03 -2.8379911e-03 -2.7377622e-03  3.3566474e-03]\n"
          ]
        }
      ]
    },
    {
      "cell_type": "code",
      "metadata": {
        "colab": {
          "base_uri": "https://localhost:8080/",
          "height": 90
        },
        "id": "WccH-4ez-3u3",
        "outputId": "0ee61261-e05f-4d2c-b2be-b65576ef235f"
      },
      "source": [
        "result=model.wv.most_similar('iron')\n",
        "str(result)"
      ],
      "execution_count": 146,
      "outputs": [
        {
          "output_type": "execute_result",
          "data": {
            "application/vnd.google.colaboratory.intrinsic+json": {
              "type": "string"
            },
            "text/plain": [
              "\"[('mentored', 0.44152677059173584), ('comics', 0.2885010242462158), ('tony', 0.2556478679180145), ('genius', 0.23280119895935059), ('military', 0.22916382551193237), ('alias', 0.1855953335762024), ('armor', 0.18478628993034363), ('marvel', 0.1844153255224228), ('commonly', 0.16678670048713684), ('change', 0.16337189078330994)]\""
            ]
          },
          "metadata": {},
          "execution_count": 146
        }
      ]
    }
  ]
}